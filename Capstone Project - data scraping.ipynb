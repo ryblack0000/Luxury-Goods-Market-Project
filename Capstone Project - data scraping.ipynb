{
 "cells": [
  {
   "cell_type": "markdown",
   "id": "777b02d7",
   "metadata": {},
   "source": [
    "# Luxury Goods Industry: Market Analysis\n",
    "### Capstone Project\n",
    "### Ryan Blackadar, Juno College of Technology, December 2021"
   ]
  },
  {
   "cell_type": "markdown",
   "id": "6be5167c",
   "metadata": {},
   "source": [
    "### Data Question: What was the effect of the COVID-19 Pandemic on the Luxury Goods Industry?"
   ]
  },
  {
   "cell_type": "code",
   "execution_count": 1,
   "id": "e8684699",
   "metadata": {},
   "outputs": [],
   "source": [
    "#Import Libraries\n",
    "\n",
    "import pandas as pd\n",
    "import numpy as np\n",
    "import matplotlib.pyplot as plt\n",
    "plt.style.use('seaborn')\n",
    "import matplotlib.ticker as mtick\n",
    "from matplotlib.ticker import PercentFormatter\n",
    "from datetime import datetime\n",
    "\n",
    "#Yahoo! Finance Library: \n",
    "#Source: https://pypi.org/project/yfinance/ \n",
    "\n",
    "import yfinance as yf"
   ]
  },
  {
   "cell_type": "code",
   "execution_count": 2,
   "id": "44694794",
   "metadata": {},
   "outputs": [],
   "source": [
    "#Defining variables for the Yahoo! Finance Ticker symbols\n",
    "\n",
    "lvmh = yf.Ticker('mc.pa')\n",
    "kering = yf.Ticker('ker.pa')\n",
    "hermes = yf.Ticker('rms.pa')\n",
    "dior = yf.Ticker('cdi.pa')"
   ]
  },
  {
   "cell_type": "markdown",
   "id": "59efd97b",
   "metadata": {},
   "source": [
    "### What Company Information is Available Using yfinance?"
   ]
  },
  {
   "cell_type": "code",
   "execution_count": 3,
   "id": "c8a9daa8",
   "metadata": {},
   "outputs": [
    {
     "name": "stdout",
     "output_type": "stream",
     "text": [
      "zip : 75008\n",
      "sector : Consumer Cyclical\n",
      "fullTimeEmployees : 148343\n",
      "longBusinessSummary : LVMH MoÃ«t Hennessy - Louis Vuitton, SociÃ©tÃ© EuropÃ©enne operates as a luxury products company. The company offers champagnes, wines, and spirits under the Ao Yun, Ardbeg, Belvedere, Bodega Numanthia, Cape Mentelle, Chandon, ChÃ¢teau Cheval Blanc, ChÃ¢teau d'Yquem, Cheval des Andes, Clos des Lambrays, Clos19, Cloudy Bay, Dom PÃ©rignon, Glenmorangie, Hennessy, Krug, Mercier, MoÃ«t & Chandon, Newton, Vineyard, Ruinart, Terrazas de los Andes, Veuve Clicquot, Volcan de mi Tierra, and Woodinville brands. It also provides fashion and leather products under the Berluti, Celine, Christian Dior, Emilio Pucci, Fendi, Givenchy, Kenzo, Loewe, Loro Piana, Louis Vuitton, Marc Jacobs, Moynat, Nicholas Kirkwood, Pink Shirtmaker, and Rimowa brands. In addition, the company offers perfumes and cosmetics under the Acqua di Parma, Benefit Cosmetics, Fenty Beauty by Rihanna, Fresh, Parfums Givenchy, Guerlain, Kat Von D Beauty, Kenzo Parfums, Maison Francis Kurkdjian, Make Up For Ever, Marc Jacobs Beauty, Parfums Christian Dior, and Perfumes Loewe brands; watches and jewelry under the Bvlgari, Chaumet, Fred, Hublot, TAG Heuerand Zenith brands; and custom-designed yachts under the Feadship brand name, as well as designs and builds luxury yachts under the Royal Van Lent brand. Further, it provides daily newspapers under the Les Ãchos brand; Belmond, a luxury tourism service; home other activities under the Belmond, Cheval Blanc, Connaissance des Arts, Cova, Investir, Jardin d'Acclimatation, La Samaritaine, Le Parisien, and Radio Classique brands; and selective retailing products under the DFS, La Grande Epicerie de Paris, Le Bon MarchÃ© Rive Gauche, Sephora, and Starboard Cruise brands, as well as operates Jardin d'Acclimatation, a leisure and amusement park. The company operates 4,915 stores worldwide. LVMH MoÃ«t Hennessy - Louis Vuitton, SociÃ©tÃ© EuropÃ©enne was incorporated in 1923 and is headquartered in Paris, France.\n",
      "city : Paris\n",
      "phone : 33 1 44 13 22 22\n",
      "country : France\n",
      "companyOfficers : []\n",
      "website : https://www.lvmh.com\n",
      "maxAge : 1\n",
      "address1 : 22, Avenue Montaigne\n",
      "fax : 33 1 44 13 22 23\n",
      "industry : Luxury Goods\n",
      "ebitdaMargins : 0.29204\n",
      "profitMargins : 0.17241\n",
      "grossMargins : 0.67267\n",
      "operatingCashflow : 17769000960\n",
      "revenueGrowth : 0.558\n",
      "operatingMargins : 0.25947002\n",
      "ebitda : 16039999488\n",
      "targetLowPrice : 610\n",
      "recommendationKey : buy\n",
      "grossProfits : 28780000000\n",
      "freeCashflow : 11471875072\n",
      "targetMedianPrice : 760\n",
      "currentPrice : 712.1\n",
      "earningsGrowth : 9.121\n",
      "currentRatio : 1.096\n",
      "returnOnAssets : 0.08089\n",
      "numberOfAnalystOpinions : 31\n",
      "targetMeanPrice : 759.32\n",
      "debtToEquity : 90.437\n",
      "returnOnEquity : 0.24919\n",
      "targetHighPrice : 900\n",
      "totalCash : 8723000320\n",
      "totalDebt : 38548000768\n",
      "totalRevenue : 54923001856\n",
      "totalCashPerShare : 17.315\n",
      "financialCurrency : EUR\n",
      "revenuePerShare : 109.026\n",
      "quickRatio : 0.484\n",
      "recommendationMean : 2\n",
      "exchange : PAR\n",
      "shortName : LVMH\n",
      "longName : LVMH Moët Hennessy - Louis Vuitton, Société Européenne\n",
      "exchangeTimezoneName : Europe/Paris\n",
      "exchangeTimezoneShortName : CET\n",
      "isEsgPopulated : False\n",
      "gmtOffSetMilliseconds : 3600000\n",
      "quoteType : EQUITY\n",
      "symbol : MC.PA\n",
      "messageBoardId : finmb_195488\n",
      "market : fr_market\n",
      "annualHoldingsTurnover : None\n",
      "enterpriseToRevenue : 7.219\n",
      "beta3Year : None\n",
      "enterpriseToEbitda : 24.72\n",
      "52WeekChange : 0.42654693\n",
      "morningStarRiskRating : None\n",
      "forwardEps : 26.29\n",
      "revenueQuarterlyGrowth : None\n",
      "sharesOutstanding : 503599008\n",
      "fundInceptionDate : None\n",
      "annualReportExpenseRatio : None\n",
      "totalAssets : None\n",
      "bookValue : 81.747\n",
      "sharesShort : None\n",
      "sharesPercentSharesOut : None\n",
      "fundFamily : None\n",
      "lastFiscalYearEnd : 1609372800\n",
      "heldPercentInstitutions : 0.21318\n",
      "netIncomeToCommon : 9468999680\n",
      "trailingEps : 18.772\n",
      "lastDividendValue : 3\n",
      "SandP52WeekChange : 0.2816472\n",
      "priceToBook : 8.711022\n",
      "heldPercentInsiders : 0.47476003\n",
      "nextFiscalYearEnd : 1672444800\n",
      "yield : None\n",
      "mostRecentQuarter : 1625011200\n",
      "shortRatio : None\n",
      "sharesShortPreviousMonthDate : None\n",
      "floatShares : 274341337\n",
      "beta : 0.946319\n",
      "enterpriseValue : 396510363648\n",
      "priceHint : 2\n",
      "threeYearAverageReturn : None\n",
      "lastSplitDate : 962582400\n",
      "lastSplitFactor : 5:1\n",
      "legalType : None\n",
      "lastDividendDate : 1638230400\n",
      "morningStarOverallRating : None\n",
      "earningsQuarterlyGrowth : 9.132\n",
      "priceToSalesTrailing12Months : 6.529374\n",
      "dateShortInterest : None\n",
      "pegRatio : None\n",
      "ytdReturn : None\n",
      "forwardPE : 27.086342\n",
      "lastCapGain : None\n",
      "shortPercentOfFloat : None\n",
      "sharesShortPriorMonth : None\n",
      "impliedSharesOutstanding : None\n",
      "category : None\n",
      "fiveYearAverageReturn : None\n",
      "previousClose : 714.7\n",
      "regularMarketOpen : 718.8\n",
      "twoHundredDayAverage : 645.8925\n",
      "trailingAnnualDividendYield : 0.009794319\n",
      "payoutRatio : 0.3197\n",
      "volume24Hr : None\n",
      "regularMarketDayHigh : 721.6\n",
      "navPrice : None\n",
      "averageDailyVolume10Day : 535003\n",
      "regularMarketPreviousClose : 714.7\n",
      "fiftyDayAverage : 681.538\n",
      "trailingAnnualDividendRate : 7\n",
      "open : 718.8\n",
      "toCurrency : None\n",
      "averageVolume10days : 535003\n",
      "expireDate : None\n",
      "algorithm : None\n",
      "dividendRate : 7\n",
      "exDividendDate : 1638230400\n",
      "circulatingSupply : None\n",
      "startDate : None\n",
      "regularMarketDayLow : 708.5\n",
      "currency : EUR\n",
      "trailingPE : 37.93416\n",
      "regularMarketVolume : 99292\n",
      "lastMarket : None\n",
      "maxSupply : None\n",
      "openInterest : None\n",
      "marketCap : 358612828160\n",
      "volumeAllCurrencies : None\n",
      "strikePrice : None\n",
      "averageVolume : 436080\n",
      "dayLow : 708.5\n",
      "ask : 0\n",
      "askSize : 0\n",
      "volume : 99292\n",
      "fiftyTwoWeekHigh : 741.6\n",
      "fromCurrency : None\n",
      "fiveYearAvgDividendYield : 1.5\n",
      "fiftyTwoWeekLow : 484.4\n",
      "bid : 0\n",
      "tradeable : False\n",
      "dividendYield : 0.0097\n",
      "bidSize : 0\n",
      "dayHigh : 721.6\n",
      "regularMarketPrice : 712.1\n",
      "preMarketPrice : None\n",
      "logo_url : https://logo.clearbit.com/lvmh.com\n"
     ]
    }
   ],
   "source": [
    "#Preview information for Louis Vuitton - Moet Hennessy\n",
    "\n",
    "lvmhinfo = lvmh.info\n",
    "\n",
    "for key,value in lvmhinfo.items():\n",
    "    print (key, \":\", value)"
   ]
  },
  {
   "cell_type": "markdown",
   "id": "d963a833",
   "metadata": {},
   "source": [
    "## Creation of Data Sets\n",
    "\n",
    "### Setting Up a Scraping Tool to Export Stock Data to .csv"
   ]
  },
  {
   "cell_type": "code",
   "execution_count": 4,
   "id": "4a63079e",
   "metadata": {},
   "outputs": [],
   "source": [
    "#Create a datetime function which defines \"today\" as a variable which always aligns with the present day\n",
    "#This will allow new stock data to be added to the .csv after each business day\n",
    "#The .csv files are on a \"live\" data source connection to Tableau\n",
    "\n",
    "today = datetime.now().date().strftime(\"%Y-%m-%d\")"
   ]
  },
  {
   "cell_type": "code",
   "execution_count": 5,
   "id": "fdb04660",
   "metadata": {},
   "outputs": [
    {
     "name": "stdout",
     "output_type": "stream",
     "text": [
      "[*********************100%***********************]  1 of 1 completed\n",
      "[*********************100%***********************]  1 of 1 completed\n",
      "[*********************100%***********************]  1 of 1 completed\n",
      "[*********************100%***********************]  1 of 1 completed\n",
      "[*********************100%***********************]  1 of 1 completed\n",
      "[*********************100%***********************]  1 of 1 completed\n",
      "[*********************100%***********************]  1 of 1 completed\n",
      "[*********************100%***********************]  1 of 1 completed\n"
     ]
    }
   ],
   "source": [
    "#Scrape and export the most up to date stock data for each of the companies requested below\n",
    "#Use 'today' variable as set above\n",
    "\n",
    "#CAC40 Stock Index (spanning back to 2007):\n",
    "\n",
    "cac40data = yf.download(\"^FCHI\", start='2007-11-30', end=today)\n",
    "cac40data.to_csv('CAC40.csv')\n",
    "\n",
    "#Luxury Goods Companies (spanning back to 2007):\n",
    "\n",
    "lvmhdata = yf.download(\"mc.pa\", start='2007-11-30', end=today)\n",
    "lvmhdata.to_csv('LVMH.csv')\n",
    "\n",
    "diordata = yf.download(\"cdi.pa\", start='2007-11-30', end=today)\n",
    "diordata.to_csv('Dior.csv')\n",
    "\n",
    "hermesdata = yf.download(\"rms.pa\", start='2007-11-30', end=today)\n",
    "hermesdata.to_csv('Hermès.csv')\n",
    "\n",
    "keringdata = yf.download(\"ker.pa\", start='2007-11-30', end=today)\n",
    "keringdata.to_csv('Kering.csv')\n",
    "\n",
    "richemontdata = yf.download(\"CFR.SW\", start='2007-11-30', end=today)\n",
    "richemontdata.to_csv('Richemont.csv')\n",
    "\n",
    "#Fast Fashion Companies (spanning back to 2019):\n",
    "\n",
    "inditexdata = yf.download(\"ITX.MC\", start='2019-12-01', end=today)\n",
    "inditexdata.to_csv('Inditex.csv')\n",
    "\n",
    "HMdata = yf.download(\"HM-B.ST\", start='2019-12-01', end=today)\n",
    "HMdata.to_csv('H&M.csv')"
   ]
  },
  {
   "cell_type": "markdown",
   "id": "573e4b65",
   "metadata": {},
   "source": [
    "## Fundamental Analysis of Stock Symbols\n",
    "### Using yfinance, an investor can quickly and easily compare companies based on the fundamentals that are of interest"
   ]
  },
  {
   "cell_type": "code",
   "execution_count": 6,
   "id": "40d5bbe4",
   "metadata": {},
   "outputs": [
    {
     "data": {
      "text/html": [
       "<div>\n",
       "<style scoped>\n",
       "    .dataframe tbody tr th:only-of-type {\n",
       "        vertical-align: middle;\n",
       "    }\n",
       "\n",
       "    .dataframe tbody tr th {\n",
       "        vertical-align: top;\n",
       "    }\n",
       "\n",
       "    .dataframe thead th {\n",
       "        text-align: right;\n",
       "    }\n",
       "</style>\n",
       "<table border=\"1\" class=\"dataframe\">\n",
       "  <thead>\n",
       "    <tr style=\"text-align: right;\">\n",
       "      <th></th>\n",
       "      <th>shortName</th>\n",
       "      <th>dividendYield</th>\n",
       "      <th>dividendRate</th>\n",
       "      <th>previousClose</th>\n",
       "      <th>trailingPE</th>\n",
       "      <th>ebitda</th>\n",
       "      <th>beta</th>\n",
       "      <th>marketCap</th>\n",
       "    </tr>\n",
       "    <tr>\n",
       "      <th>symbol</th>\n",
       "      <th></th>\n",
       "      <th></th>\n",
       "      <th></th>\n",
       "      <th></th>\n",
       "      <th></th>\n",
       "      <th></th>\n",
       "      <th></th>\n",
       "      <th></th>\n",
       "    </tr>\n",
       "  </thead>\n",
       "  <tbody>\n",
       "    <tr>\n",
       "      <th>MC.PA</th>\n",
       "      <td>LVMH</td>\n",
       "      <td>0.0097</td>\n",
       "      <td>7.00</td>\n",
       "      <td>714.7</td>\n",
       "      <td>37.928833</td>\n",
       "      <td>16039999488</td>\n",
       "      <td>0.946319</td>\n",
       "      <td>358562496512</td>\n",
       "    </tr>\n",
       "    <tr>\n",
       "      <th>KER.PA</th>\n",
       "      <td>KERING</td>\n",
       "      <td>0.0111</td>\n",
       "      <td>8.00</td>\n",
       "      <td>717.5</td>\n",
       "      <td>26.325779</td>\n",
       "      <td>4994299904</td>\n",
       "      <td>0.972329</td>\n",
       "      <td>87765704704</td>\n",
       "    </tr>\n",
       "    <tr>\n",
       "      <th>RMS.PA</th>\n",
       "      <td>HERMES INTL</td>\n",
       "      <td>0.0029</td>\n",
       "      <td>4.55</td>\n",
       "      <td>1577.0</td>\n",
       "      <td>74.733270</td>\n",
       "      <td>3549600000</td>\n",
       "      <td>0.347537</td>\n",
       "      <td>165651447808</td>\n",
       "    </tr>\n",
       "    <tr>\n",
       "      <th>CDI.PA</th>\n",
       "      <td>CHRISTIAN DIOR</td>\n",
       "      <td>0.0100</td>\n",
       "      <td>7.00</td>\n",
       "      <td>694.0</td>\n",
       "      <td>32.364260</td>\n",
       "      <td>15630000128</td>\n",
       "      <td>0.958494</td>\n",
       "      <td>125926883328</td>\n",
       "    </tr>\n",
       "  </tbody>\n",
       "</table>\n",
       "</div>"
      ],
      "text/plain": [
       "             shortName  dividendYield  dividendRate  previousClose  \\\n",
       "symbol                                                               \n",
       "MC.PA             LVMH         0.0097          7.00          714.7   \n",
       "KER.PA          KERING         0.0111          8.00          717.5   \n",
       "RMS.PA     HERMES INTL         0.0029          4.55         1577.0   \n",
       "CDI.PA  CHRISTIAN DIOR         0.0100          7.00          694.0   \n",
       "\n",
       "        trailingPE       ebitda      beta     marketCap  \n",
       "symbol                                                   \n",
       "MC.PA    37.928833  16039999488  0.946319  358562496512  \n",
       "KER.PA   26.325779   4994299904  0.972329   87765704704  \n",
       "RMS.PA   74.733270   3549600000  0.347537  165651447808  \n",
       "CDI.PA   32.364260  15630000128  0.958494  125926883328  "
      ]
     },
     "execution_count": 6,
     "metadata": {},
     "output_type": "execute_result"
    }
   ],
   "source": [
    "#Store the desired ticker symbols to be compared\n",
    "\n",
    "tickers = ['mc.pa', 'ker.pa', 'rms.pa', 'cdi.pa']\n",
    "infos = []\n",
    "for i in tickers:\n",
    "    infos.append(yf.Ticker(i).info)\n",
    "\n",
    "#Define which fundamentals are of interest for the analysis (key values from 'info' dict)\n",
    "\n",
    "fundamentals = [\"shortName\", \"dividendYield\", \"dividendRate\", \"marketCap\", \"beta\", 'trailingPE', 'ebitda', 'previousClose']\n",
    "\n",
    "#Create a new data frame based on the infos list\n",
    "\n",
    "f_analysis = pd.DataFrame(infos)\n",
    "\n",
    "#Assign ticker symbols as the index of the dataframe\n",
    "f_analysis = f_analysis.set_index('symbol')\n",
    "\n",
    "#Filter the dataframe only to see the fundamentals specified above\n",
    "f_analysis = f_analysis[f_analysis.columns[f_analysis.columns.isin(fundamentals)]]\n",
    "\n",
    "#Order the columns as specified\n",
    "f_analysis = f_analysis[[\"shortName\", \"dividendYield\", \"dividendRate\", \"previousClose\", \"trailingPE\", \"ebitda\", \"beta\", \"marketCap\"]]\n",
    "f_analysis"
   ]
  },
  {
   "cell_type": "markdown",
   "id": "866f1a44",
   "metadata": {},
   "source": [
    "## Visualizing Features of the Fundamental Analysis\n",
    "### How do the dividend yields compare?"
   ]
  },
  {
   "cell_type": "code",
   "execution_count": 7,
   "id": "42de39eb",
   "metadata": {},
   "outputs": [
    {
     "data": {
      "text/plain": [
       "(array([0, 1, 2, 3]),\n",
       " [Text(0, 0, 'LVMH'),\n",
       "  Text(1, 0, 'KERING'),\n",
       "  Text(2, 0, 'HERMES INTL'),\n",
       "  Text(3, 0, 'CHRISTIAN DIOR')])"
      ]
     },
     "execution_count": 7,
     "metadata": {},
     "output_type": "execute_result"
    },
    {
     "data": {
      "image/png": "[encoded data removed]",
      "text/plain": [
       "<Figure size 576x396 with 1 Axes>"
      ]
     },
     "metadata": {},
     "output_type": "display_data"
    }
   ],
   "source": [
    "#Bar Plot to compare Dividend Yield #\n",
    "\n",
    "#Multiply the dividendYield by 100 to reflect %\n",
    "f_analysis['yield100'] = f_analysis['dividendYield']*100\n",
    "\n",
    "#Bar plot of the dividend yields\n",
    "ax = f_analysis.plot.bar(x='shortName',y='yield100')\n",
    "ax.yaxis.set_major_formatter(mtick.PercentFormatter())\n",
    "plt.xticks(rotation=45)"
   ]
  },
  {
   "cell_type": "markdown",
   "id": "e61ac5fa",
   "metadata": {},
   "source": [
    "## Visualizing Trends Using Simple Moving Average"
   ]
  },
  {
   "cell_type": "markdown",
   "id": "c61bd12d",
   "metadata": {},
   "source": [
    "### Simple Moving Average Visualization: CAC40"
   ]
  },
  {
   "cell_type": "code",
   "execution_count": 8,
   "id": "e4ed1438",
   "metadata": {},
   "outputs": [
    {
     "data": {
      "text/plain": [
       "<AxesSubplot:xlabel='Date'>"
      ]
     },
     "execution_count": 8,
     "metadata": {},
     "output_type": "execute_result"
    },
    {
     "data": {
      "image/png": "[encoded data removed]",
      "text/plain": [
       "<Figure size 576x396 with 1 Axes>"
      ]
     },
     "metadata": {},
     "output_type": "display_data"
    }
   ],
   "source": [
    "#Simple Moving Average\n",
    "df_cac40 = pd.read_csv('CAC40.csv', index_col='Date', parse_dates=True)\n",
    "\n",
    "#Index locator starting with March 17, 2020 to analyze recovery trend\n",
    "df_cac40_recovery = df_cac40.loc['2020-03-17':]\n",
    "\n",
    "#Plot a 30-day moving average line compared to the stock price\n",
    "\n",
    "df_cac40_recovery['Adj Close'].plot()\n",
    "df_cac40_recovery['Adj Close'].rolling(window=30).mean().plot()"
   ]
  },
  {
   "cell_type": "markdown",
   "id": "286bdbf3",
   "metadata": {},
   "source": [
    "### Simple Moving Average Visualization: Hermès"
   ]
  },
  {
   "cell_type": "code",
   "execution_count": 9,
   "id": "d238646d",
   "metadata": {},
   "outputs": [
    {
     "data": {
      "text/plain": [
       "<AxesSubplot:xlabel='Date'>"
      ]
     },
     "execution_count": 9,
     "metadata": {},
     "output_type": "execute_result"
    },
    {
     "data": {
      "image/png": "[encoded data removed]",
      "text/plain": [
       "<Figure size 576x396 with 1 Axes>"
      ]
     },
     "metadata": {},
     "output_type": "display_data"
    }
   ],
   "source": [
    "#Simple Moving Average\n",
    "df_hermes = pd.read_csv('Hermès.csv', index_col='Date', parse_dates=True)\n",
    "\n",
    "#Index locator starting with March 17, 2020 to analyze recovery trend\n",
    "df_hermes_recovery = df_hermes.loc['2020-03-17':]\n",
    "\n",
    "#Plot a 30-day moving average line compared to the stock price\n",
    "\n",
    "df_hermes_recovery['Adj Close'].plot()\n",
    "df_hermes_recovery['Adj Close'].rolling(window=30).mean().plot()"
   ]
  },
  {
   "cell_type": "markdown",
   "id": "b8841029",
   "metadata": {},
   "source": [
    "### Ethics and Implications\n",
    "\n",
    "For the purposes of analysis in this project, public data is being used. Historical stock prices and company profile information are readily and publicly available and do not pose an ethical concern. None of the information has been sourced privately nor internally.\n",
    "\n",
    "When it comes to ethical outlooks on the businesses or the investments themselves, investors may wish to consult information relating to Sustainability into their decision making process."
   ]
  },
  {
   "cell_type": "markdown",
   "id": "7aa02881",
   "metadata": {},
   "source": [
    "### Conclusion and Takeaways\n",
    "\n",
    "Using data scraped from the Yahoo!Finance api in Python,  combined with visualization tools in Tableau, we can see that despite the inital setback in March 2020, companies in the luxury sector have rebounded significantly. When compared to the French stock market index as a benchmark, these companies have out-performed in stock price growth. \n",
    "\n",
    "This is insightful information for potential investors and will be helpful when making investment decisions. Stock market data is unable to tell us what the next pandemic will look like or when it will happen. What it tells us is how this industry fared with COVID-19."
   ]
  },
  {
   "cell_type": "code",
   "execution_count": null,
   "id": "a17a489f",
   "metadata": {},
   "outputs": [],
   "source": []
  }
 ],
 "metadata": {
  "kernelspec": {
   "display_name": "Python 3",
   "language": "python",
   "name": "python3"
  },
  "language_info": {
   "codemirror_mode": {
    "name": "ipython",
    "version": 3
   },
   "file_extension": ".py",
   "mimetype": "text/x-python",
   "name": "python",
   "nbconvert_exporter": "python",
   "pygments_lexer": "ipython3",
   "version": "3.8.8"
  },
  "varInspector": {
   "cols": {
    "lenName": 16,
    "lenType": 16,
    "lenVar": 40
   },
   "kernels_config": {
    "python": {
     "delete_cmd_postfix": "",
     "delete_cmd_prefix": "del ",
     "library": "var_list.py",
     "varRefreshCmd": "print(var_dic_list())"
    },
    "r": {
     "delete_cmd_postfix": ") ",
     "delete_cmd_prefix": "rm(",
     "library": "var_list.r",
     "varRefreshCmd": "cat(var_dic_list()) "
    }
   },
   "types_to_exclude": [
    "module",
    "function",
    "builtin_function_or_method",
    "instance",
    "_Feature"
   ],
   "window_display": false
  }
 },
 "nbformat": 4,
 "nbformat_minor": 5
}
